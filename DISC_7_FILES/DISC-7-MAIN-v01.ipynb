{
 "cells": [
  {
   "cell_type": "markdown",
   "id": "1f62d410",
   "metadata": {},
   "source": [
    "### <span style=color:blue> DISCUSSION 7 - Working with mongodb (local)    </span>"
   ]
  },
  {
   "cell_type": "code",
   "execution_count": null,
   "id": "082b2a26",
   "metadata": {},
   "outputs": [],
   "source": [
    "import sys\n",
    "import json\n",
    "import csv\n",
    "import yaml\n",
    "\n",
    "import pandas as pd\n",
    "import numpy as np\n",
    "\n",
    "import matplotlib as mpl\n",
    "import matplotlib.pyplot as plt\n",
    "import os\n",
    "from dotenv import load_dotenv\n",
    "\n",
    "import pprint\n",
    "\n",
    "import psycopg2\n",
    "from sqlalchemy import create_engine, text as sql_text"
   ]
  },
  {
   "cell_type": "markdown",
   "id": "237bb41e",
   "metadata": {},
   "source": [
    "##### <span style=color:blue>Basic queries in mongoDB</span>"
   ]
  },
  {
   "cell_type": "code",
   "execution_count": null,
   "id": "fd30a42d",
   "metadata": {},
   "outputs": [],
   "source": [
    "# Setup the mongoclient and connect to local instance of mongodb\n",
    "from pymongo import MongoClient\n",
    "\n",
    "client = MongoClient(\"mongodb://localhost:27017/\")"
   ]
  },
  {
   "cell_type": "code",
   "execution_count": null,
   "id": "b524734a",
   "metadata": {},
   "outputs": [],
   "source": [
    "# Call a db company or create one if it does not exists\n",
    "db = client[\"company\"]"
   ]
  },
  {
   "cell_type": "code",
   "execution_count": null,
   "id": "73737ce5",
   "metadata": {},
   "outputs": [],
   "source": [
    "# Insert a document\n",
    "db.employees.insert_one({\"name\": \"Alice\", \"age\": 28, \"department\": \"HR\"})"
   ]
  },
  {
   "cell_type": "code",
   "execution_count": null,
   "id": "7b60bfe5",
   "metadata": {},
   "outputs": [],
   "source": [
    "# Find a document\n",
    "employee = db.employees.find_one({\"name\": \"Alice\"})\n",
    "print(employee)"
   ]
  },
  {
   "cell_type": "code",
   "execution_count": null,
   "id": "55a1136d",
   "metadata": {},
   "outputs": [],
   "source": [
    "# Update a document\n",
    "db.employees.update_one({\"name\": \"Alice\"}, {\"$set\": {\"age\": 29}})"
   ]
  },
  {
   "cell_type": "code",
   "execution_count": null,
   "id": "95a29c52",
   "metadata": {},
   "outputs": [],
   "source": [
    "# Delete a document\n",
    "db.employees.delete_one({\"name\": \"Alice\"})"
   ]
  },
  {
   "cell_type": "code",
   "execution_count": null,
   "id": "cf53b230",
   "metadata": {},
   "outputs": [],
   "source": [
    "# Find all employees in the HR department\n",
    "employees_in_hr = db.employees.find({\"department\": \"HR\"})\n",
    "for emp in employees_in_hr:\n",
    "    print(emp)\n",
    "\n",
    "# Count the number of employees in the company\n",
    "employee_count = db.employees.count_documents({})\n",
    "print(f\"Number of employees: {employee_count}\")\n"
   ]
  },
  {
   "cell_type": "markdown",
   "id": "1cfca8ab",
   "metadata": {},
   "source": [
    "##### <span style=color:blue>Working with pre-existing data</span>"
   ]
  },
  {
   "cell_type": "code",
   "execution_count": null,
   "id": "cc2ee068",
   "metadata": {},
   "outputs": [],
   "source": [
    "# Load CSV files into DataFrames\n",
    "department_df = pd.read_csv(\"data/department.csv\")\n",
    "dependent_df = pd.read_csv(\"data/dependent.csv\")\n",
    "dept_locations_df = pd.read_csv(\"data/dept_locations.csv\")\n",
    "employee_df = pd.read_csv(\"data/employee.csv\")\n",
    "project_df = pd.read_csv(\"data/project.csv\")\n",
    "works_on_df = pd.read_csv(\"data/works_on.csv\")\n",
    "\n",
    "print(department_df)\n",
    "print(dependent_df)\n",
    "print(dept_locations_df)\n",
    "print(employee_df)\n",
    "print(project_df)\n",
    "print(works_on_df)"
   ]
  },
  {
   "cell_type": "code",
   "execution_count": null,
   "id": "2f683b21",
   "metadata": {},
   "outputs": [],
   "source": [
    "# Insert data into MongoDB and check in MongoDB Compass\n",
    "db.departments.insert_many(department_df.to_dict('records'))\n",
    "db.dependents.insert_many(dependent_df.to_dict('records'))\n",
    "db.dept_locations.insert_many(dept_locations_df.to_dict('records'))\n",
    "db.employees.insert_many(employee_df.to_dict('records'))\n",
    "db.projects.insert_many(project_df.to_dict('records'))\n",
    "db.works_on.insert_many(works_on_df.to_dict('records'))"
   ]
  },
  {
   "cell_type": "code",
   "execution_count": null,
   "id": "f4eeddb8",
   "metadata": {},
   "outputs": [],
   "source": [
    "# Intializing pprint \n",
    "\n",
    "pp = pprint.PrettyPrinter(indent=4)"
   ]
  },
  {
   "cell_type": "code",
   "execution_count": null,
   "id": "6e6c771a",
   "metadata": {},
   "outputs": [],
   "source": [
    "# Print all employees in company\n",
    "\n",
    "print(\"Employees in the Database:\")\n",
    "\n",
    "employees = db.employees.find()\n",
    "for emp in employees:\n",
    "    pp.pprint(emp)"
   ]
  },
  {
   "cell_type": "code",
   "execution_count": null,
   "id": "7a30749c",
   "metadata": {},
   "outputs": [],
   "source": [
    "# Find all employees in the \"Sales\" department\n",
    "\n",
    "employees_in_sales = db.employees.find({\"dno\": 1})\n",
    "for emp in employees_in_sales:\n",
    "    pp.pprint(emp)"
   ]
  },
  {
   "cell_type": "code",
   "execution_count": null,
   "id": "7a3bc186",
   "metadata": {},
   "outputs": [],
   "source": [
    "# Combined query using aggregation pipeline to find the emplyees\n",
    "# in the research department\n",
    "\n",
    "research_department_employees = db.employees.aggregate([\n",
    "    {\n",
    "        # Performs a join between employees and departments on the dno field\n",
    "        \"$lookup\": {\n",
    "            \"from\": \"departments\",\n",
    "            \"localField\": \"dno\",\n",
    "            \"foreignField\": \"dnumber\",\n",
    "            \"as\": \"department_info\"\n",
    "        }\n",
    "    },\n",
    "    # Deconstructs the array field to output a document for each element\n",
    "    {\"$unwind\": \"$department_info\"},\n",
    "    \n",
    "    # Filtering operation to include only dname==\"Research\"\n",
    "    {\"$match\": {\"department_info.dname\": \"Research\"}}\n",
    "])\n",
    "\n",
    "# Print the results\n",
    "for emp in research_department_employees:\n",
    "    pp.pprint(emp)\n",
    "    \n",
    "# The above query will look like follows in SQL \n",
    "# SELECT e.*\n",
    "# FROM employees e\n",
    "# JOIN departments d ON e.dno = d.dno\n",
    "# WHERE d.dname = 'Administration';"
   ]
  },
  {
   "cell_type": "code",
   "execution_count": null,
   "id": "9a51aaa9",
   "metadata": {},
   "outputs": [],
   "source": [
    "# Query to find projects managed by the \"Research\" department\n",
    "\n",
    "research_department_projects = db.projects.aggregate([\n",
    "    {\n",
    "        # Performs a join between employees and departments on the dno file \n",
    "        \"$lookup\": {\n",
    "            \"from\": \"departments\",\n",
    "            \"localField\": \"dnum\",\n",
    "            \"foreignField\": \"dnumber\",\n",
    "            \"as\": \"department_info\"\n",
    "        }\n",
    "    },\n",
    "    # Deconstructs the array field to output a document for each element\n",
    "    {\"$unwind\": \"$department_info\"},\n",
    "    \n",
    "    # Filtering operation to include only dname==Research\n",
    "    {\"$match\": {\"department_info.dname\": \"Research\"}}\n",
    "])\n",
    "\n",
    "print(\"Projects Managed by Research Department:\")\n",
    "\n",
    "for proj in research_department_projects:\n",
    "    pp.pprint(proj)"
   ]
  },
  {
   "cell_type": "markdown",
   "id": "1dc399cb",
   "metadata": {},
   "source": [
    "##### <span style=color:blue>Aggregation Queries</span>"
   ]
  },
  {
   "cell_type": "code",
   "execution_count": null,
   "id": "b09d4ab0",
   "metadata": {},
   "outputs": [],
   "source": [
    "# Calculate the average salary in each department\n",
    "\n",
    "average_salary_per_department = db.employees.aggregate([\n",
    "    {\n",
    "        # Group documents by the dno field and create a new average_salary field\n",
    "        \"$group\": {\n",
    "            \"_id\": \"$dno\",\n",
    "            \"average_salary\": {\"$avg\": \"$salary\"}\n",
    "        }\n",
    "    },\n",
    "    {\n",
    "        # Perform join between departments and employees\n",
    "        \"$lookup\": {\n",
    "            \"from\": \"departments\",\n",
    "            \"localField\": \"_id\",\n",
    "            \"foreignField\": \"dnumber\",\n",
    "            \"as\": \"department_info\"\n",
    "        }\n",
    "    },\n",
    "    {\"$unwind\": \"$department_info\"},\n",
    "    {\n",
    "        # Shape the output documents to include only the required fields.\n",
    "        \"$project\": {\n",
    "            \"department_name\": \"$department_info.dname\",\n",
    "            \"average_salary\": 1\n",
    "        }\n",
    "    }\n",
    "])\n",
    "\n",
    "print(\"Average Salary Per Department:\")\n",
    "\n",
    "for dept in average_salary_per_department:\n",
    "    pp.pprint(dept)\n",
    "\n",
    "# The above query will look like follows in SQL\n",
    "# SELECT \n",
    "#     d.dname AS department_name,\n",
    "#     AVG(e.salary) AS average_salary\n",
    "# FROM \n",
    "#     employees e\n",
    "# JOIN \n",
    "#     departments d ON e.dno = d.dnumber\n",
    "# GROUP BY \n",
    "#     d.dname;"
   ]
  },
  {
   "cell_type": "code",
   "execution_count": null,
   "id": "67f14183",
   "metadata": {},
   "outputs": [],
   "source": [
    "# Aggregation pipeline to find the total hours worked on each project\n",
    "total_hours_per_project = db.works_on.aggregate([\n",
    "    {\n",
    "        \"$group\": {\n",
    "            \"_id\": \"$pno\",\n",
    "            \"total_hours\": {\"$sum\": \"$hours\"}\n",
    "        }\n",
    "    },\n",
    "    {\n",
    "        \"$lookup\": {\n",
    "            \"from\": \"projects\",\n",
    "            \"localField\": \"_id\",\n",
    "            \"foreignField\": \"pnumber\",\n",
    "            \"as\": \"project_info\"\n",
    "        }\n",
    "    },\n",
    "    {\"$unwind\": \"$project_info\"},\n",
    "    {\n",
    "        \"$project\": {\n",
    "            \"project_name\": \"$project_info.pname\",\n",
    "            \"total_hours\": 1\n",
    "        }\n",
    "    }\n",
    "])\n",
    "\n",
    "print(\"Total Hours Worked on Each Project:\")\n",
    "\n",
    "for project in total_hours_per_project:\n",
    "    pp.pprint(project)\n",
    "    \n",
    "# The above query will look like follows in SQL\n",
    "# SELECT \n",
    "#     p.pname AS project_name,\n",
    "#     SUM(COALESCE(w.hours, 0)) AS total_hours\n",
    "# FROM \n",
    "#     works_on w\n",
    "# JOIN \n",
    "#     projects p ON w.pno = p.pnumber\n",
    "# GROUP BY \n",
    "#     p.pname;"
   ]
  },
  {
   "cell_type": "code",
   "execution_count": null,
   "id": "e7179e39",
   "metadata": {},
   "outputs": [],
   "source": [
    "# Update all documents in works_on where hours is NaN to set hours to 0\n",
    "result = db.works_on.update_many(\n",
    "    {\"hours\": {\"$exists\": True, \"$type\": \"double\", \"$in\": [float('nan')]}},\n",
    "    {\"$set\": {\"hours\": 0}}\n",
    ")\n",
    "\n",
    "print(f\"Matched {result.matched_count} documents and modified {result.modified_count} documents.\")"
   ]
  },
  {
   "cell_type": "code",
   "execution_count": null,
   "id": "d65f2ff5",
   "metadata": {},
   "outputs": [],
   "source": [
    "# Run the \"Aggregation pipeline to find the total hours worked on each project\" again\n",
    "# And check if you're getting nan values now"
   ]
  }
 ],
 "metadata": {
  "kernelspec": {
   "display_name": "Python 3 (ipykernel)",
   "language": "python",
   "name": "python3"
  },
  "language_info": {
   "codemirror_mode": {
    "name": "ipython",
    "version": 3
   },
   "file_extension": ".py",
   "mimetype": "text/x-python",
   "name": "python",
   "nbconvert_exporter": "python",
   "pygments_lexer": "ipython3",
   "version": "3.11.7"
  }
 },
 "nbformat": 4,
 "nbformat_minor": 5
}
