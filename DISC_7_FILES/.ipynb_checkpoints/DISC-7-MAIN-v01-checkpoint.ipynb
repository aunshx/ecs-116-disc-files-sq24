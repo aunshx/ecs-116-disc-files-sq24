{
 "cells": [
  {
   "cell_type": "markdown",
   "id": "5c6c2ba1",
   "metadata": {},
   "source": [
    "### <span style=color:blue> DISCUSSION 7 - Working with mongodb (local)    </span>"
   ]
  },
  {
   "cell_type": "code",
   "execution_count": 1,
   "id": "17d91c0f",
   "metadata": {},
   "outputs": [],
   "source": [
    "import sys\n",
    "import json\n",
    "import csv\n",
    "import yaml\n",
    "\n",
    "import pandas as pd\n",
    "import numpy as np\n",
    "\n",
    "import matplotlib as mpl\n",
    "import matplotlib.pyplot as plt\n",
    "import os\n",
    "from dotenv import load_dotenv\n",
    "\n",
    "import pprint\n",
    "\n",
    "import psycopg2\n",
    "from sqlalchemy import create_engine, text as sql_text"
   ]
  },
  {
   "cell_type": "markdown",
   "id": "2a7a3697",
   "metadata": {},
   "source": [
    "##### <span style=color:blue>Basic queries in mongoDB</span>"
   ]
  },
  {
   "cell_type": "code",
   "execution_count": 2,
   "id": "95886227",
   "metadata": {},
   "outputs": [],
   "source": [
    "# Setup the mongoclient and connect to local instance of mongodb\n",
    "from pymongo import MongoClient\n",
    "\n",
    "client = MongoClient(\"mongodb://localhost:27017/\")"
   ]
  },
  {
   "cell_type": "code",
   "execution_count": 3,
   "id": "caf4afed",
   "metadata": {},
   "outputs": [],
   "source": [
    "# Call a db company or create one if it does not exists\n",
    "db = client[\"company\"]"
   ]
  },
  {
   "cell_type": "code",
   "execution_count": 4,
   "id": "85af2aea",
   "metadata": {},
   "outputs": [
    {
     "data": {
      "text/plain": [
       "InsertOneResult(ObjectId('664f718cccfc667374d3496b'), acknowledged=True)"
      ]
     },
     "execution_count": 4,
     "metadata": {},
     "output_type": "execute_result"
    }
   ],
   "source": [
    "# Insert a document\n",
    "db.employees.insert_one({\"name\": \"Alice\", \"age\": 28, \"department\": \"HR\"})"
   ]
  },
  {
   "cell_type": "code",
   "execution_count": null,
   "id": "5403ee40",
   "metadata": {},
   "outputs": [],
   "source": [
    "# Find a document\n",
    "employee = db.employees.find_one({\"name\": \"Alice\"})\n",
    "print(employee)"
   ]
  },
  {
   "cell_type": "code",
   "execution_count": 5,
   "id": "53f075dd",
   "metadata": {},
   "outputs": [
    {
     "data": {
      "text/plain": [
       "UpdateResult({'n': 1, 'nModified': 1, 'ok': 1.0, 'updatedExisting': True}, acknowledged=True)"
      ]
     },
     "execution_count": 5,
     "metadata": {},
     "output_type": "execute_result"
    }
   ],
   "source": [
    "# Update a document\n",
    "db.employees.update_one({\"name\": \"Alice\"}, {\"$set\": {\"age\": 29}})"
   ]
  },
  {
   "cell_type": "code",
   "execution_count": 6,
   "id": "d3d9c221",
   "metadata": {},
   "outputs": [
    {
     "data": {
      "text/plain": [
       "DeleteResult({'n': 1, 'ok': 1.0}, acknowledged=True)"
      ]
     },
     "execution_count": 6,
     "metadata": {},
     "output_type": "execute_result"
    }
   ],
   "source": [
    "# Delete a document\n",
    "db.employees.delete_one({\"name\": \"Alice\"})"
   ]
  },
  {
   "cell_type": "code",
   "execution_count": 7,
   "id": "13c51a9b",
   "metadata": {},
   "outputs": [
    {
     "name": "stdout",
     "output_type": "stream",
     "text": [
      "Number of employees: 0\n"
     ]
    }
   ],
   "source": [
    "# Find all employees in the HR department\n",
    "employees_in_hr = db.employees.find({\"department\": \"HR\"})\n",
    "for emp in employees_in_hr:\n",
    "    print(emp)\n",
    "\n",
    "# Count the number of employees in the company\n",
    "employee_count = db.employees.count_documents({})\n",
    "print(f\"Number of employees: {employee_count}\")\n"
   ]
  },
  {
   "cell_type": "markdown",
   "id": "21b8469d",
   "metadata": {},
   "source": [
    "##### <span style=color:blue>Working with pre-existing data</span>"
   ]
  },
  {
   "cell_type": "code",
   "execution_count": 8,
   "id": "9b21ee12",
   "metadata": {},
   "outputs": [
    {
     "name": "stdout",
     "output_type": "stream",
     "text": [
      "            dname  dnumber    mgr_ssn mgr_start_date\n",
      "0        Research        5  333445555        5/22/88\n",
      "1  Administration        4  987654321         1/1/95\n",
      "2    Headquarters        1  888665555        6/19/81\n",
      "        essn dependent_name gender     bdate relationship\n",
      "0  333445555          Alice      F    4/5/86     Daughter\n",
      "1  333445555       Theodore      M  10/25/83          Son\n",
      "2  333445555            Joy      F    5/3/58       Spouse\n",
      "3  987654321          Abner      M   2/28/42       Spouse\n",
      "4  123456789        Michael      M    1/4/88          Son\n",
      "5  123456789          Alice      F  12/30/88     Daughter\n",
      "6  123456789      Elizabeth      F    5/5/67       Spouse\n",
      "   dnumber  dlocation\n",
      "0        1    Houston\n",
      "1        4   Stafford\n",
      "2        5   Bellaire\n",
      "3        5  Sugarland\n",
      "4        5    Houston\n",
      "      fname minit    lname        ssn     bdate                 address  \\\n",
      "0      John     B    Smith  123456789    1/9/65  731-Fondren-Houston-TX   \n",
      "1  Franklin     T     Wong  333445555   12/8/55     638-Voss-Houston-TX   \n",
      "2    Alicia     J   Zelaya  999887777   1/19/68   3321-Castle-Spring-TX   \n",
      "3  Jennifer     S  Wallace  987654321   6/20/41   291-Berry-Bellaire-TX   \n",
      "4    Ramesh     K  Narayan  666884444   9/15/62  975-Fire-Oak-Humble-TX   \n",
      "5     Joyce     A  English  453453453   7/31/72    5631-Rice-Houston-TX   \n",
      "6     Ahmad     V   Jabbar  987987987   3/29/69   980-Dallas-Houston-TX   \n",
      "7     James     E     Borg  888665555  11/10/37    450-Stone-Houston-TX   \n",
      "\n",
      "  gender  salary    super_ssn  dno  \n",
      "0      M   30000  333445555.0    5  \n",
      "1      M   40000  888665555.0    5  \n",
      "2      F   25000  987654321.0    4  \n",
      "3      F   43000  888665555.0    4  \n",
      "4      M   38000  333445555.0    5  \n",
      "5      F   25000  333445555.0    5  \n",
      "6      M   25000  987654321.0    4  \n",
      "7      M   55000          NaN    1  \n",
      "             pname  pnumber  plocation  dnum\n",
      "0         ProductX        1   Bellaire     5\n",
      "1         ProductY        2  Sugarland     5\n",
      "2         ProductZ        3    Houston     5\n",
      "3  Computerization       10   Stafford     4\n",
      "4   Reorganization       20    Houston     1\n",
      "5      Newbenefits       30   Stafford     4\n",
      "         essn  pno  hours\n",
      "0   123456789    1   32.5\n",
      "1   123456789    2    7.5\n",
      "2   666884444    3   40.0\n",
      "3   453453453    1   20.0\n",
      "4   453453453    2   20.0\n",
      "5   333445555    2   10.0\n",
      "6   333445555    3   10.0\n",
      "7   333445555   10   10.0\n",
      "8   333445555   20   10.0\n",
      "9   999887777   30   30.0\n",
      "10  999887777   10   10.0\n",
      "11  987987987   10   35.0\n",
      "12  987987987   30    5.0\n",
      "13  987654321   30   20.0\n",
      "14  987654321   20   15.0\n",
      "15  888665555   20    NaN\n"
     ]
    }
   ],
   "source": [
    "# Load CSV files into DataFrames\n",
    "department_df = pd.read_csv(\"data/department.csv\")\n",
    "dependent_df = pd.read_csv(\"data/dependent.csv\")\n",
    "dept_locations_df = pd.read_csv(\"data/dept_locations.csv\")\n",
    "employee_df = pd.read_csv(\"data/employee.csv\")\n",
    "project_df = pd.read_csv(\"data/project.csv\")\n",
    "works_on_df = pd.read_csv(\"data/works_on.csv\")\n",
    "\n",
    "print(department_df)\n",
    "print(dependent_df)\n",
    "print(dept_locations_df)\n",
    "print(employee_df)\n",
    "print(project_df)\n",
    "print(works_on_df)"
   ]
  },
  {
   "cell_type": "code",
   "execution_count": 9,
   "id": "94ab5898",
   "metadata": {},
   "outputs": [
    {
     "data": {
      "text/plain": [
       "InsertManyResult([ObjectId('664f71b8ccfc667374d34989'), ObjectId('664f71b8ccfc667374d3498a'), ObjectId('664f71b8ccfc667374d3498b'), ObjectId('664f71b8ccfc667374d3498c'), ObjectId('664f71b8ccfc667374d3498d'), ObjectId('664f71b8ccfc667374d3498e'), ObjectId('664f71b8ccfc667374d3498f'), ObjectId('664f71b8ccfc667374d34990'), ObjectId('664f71b8ccfc667374d34991'), ObjectId('664f71b8ccfc667374d34992'), ObjectId('664f71b8ccfc667374d34993'), ObjectId('664f71b8ccfc667374d34994'), ObjectId('664f71b8ccfc667374d34995'), ObjectId('664f71b8ccfc667374d34996'), ObjectId('664f71b8ccfc667374d34997'), ObjectId('664f71b8ccfc667374d34998')], acknowledged=True)"
      ]
     },
     "execution_count": 9,
     "metadata": {},
     "output_type": "execute_result"
    }
   ],
   "source": [
    "# Insert data into MongoDB and check in MongoDB Compass\n",
    "db.departments.insert_many(department_df.to_dict('records'))\n",
    "db.dependents.insert_many(dependent_df.to_dict('records'))\n",
    "db.dept_locations.insert_many(dept_locations_df.to_dict('records'))\n",
    "db.employees.insert_many(employee_df.to_dict('records'))\n",
    "db.projects.insert_many(project_df.to_dict('records'))\n",
    "db.works_on.insert_many(works_on_df.to_dict('records'))"
   ]
  },
  {
   "cell_type": "code",
   "execution_count": 10,
   "id": "4765943b",
   "metadata": {},
   "outputs": [],
   "source": [
    "# Intializing pprint \n",
    "\n",
    "pp = pprint.PrettyPrinter(indent=4)"
   ]
  },
  {
   "cell_type": "code",
   "execution_count": null,
   "id": "6eda0fa4",
   "metadata": {},
   "outputs": [],
   "source": [
    "# Print all employees in company\n",
    "\n",
    "print(\"Employees in the Database:\")\n",
    "\n",
    "employees = db.employees.find()\n",
    "for emp in employees:\n",
    "    pp.pprint(emp)"
   ]
  },
  {
   "cell_type": "code",
   "execution_count": null,
   "id": "1d42f5c1",
   "metadata": {},
   "outputs": [],
   "source": [
    "# Find all employees in the \"Sales\" department\n",
    "\n",
    "employees_in_sales = db.employees.find({\"dno\": 1})\n",
    "for emp in employees_in_sales:\n",
    "    pp.pprint(emp)"
   ]
  },
  {
   "cell_type": "code",
   "execution_count": null,
   "id": "13ad7828",
   "metadata": {},
   "outputs": [],
   "source": [
    "# Combined query using aggregation pipeline to find the emplyees\n",
    "# in the research department\n",
    "\n",
    "research_department_employees = db.employees.aggregate([\n",
    "    {\n",
    "        # Performs a join between employees and departments on the dno field\n",
    "        \"$lookup\": {\n",
    "            \"from\": \"departments\",\n",
    "            \"localField\": \"dno\",\n",
    "            \"foreignField\": \"dnumber\",\n",
    "            \"as\": \"department_info\"\n",
    "        }\n",
    "    },\n",
    "    # Deconstructs the array field to output a document for each element\n",
    "    {\"$unwind\": \"$department_info\"},\n",
    "    \n",
    "    # Filtering operation to include only dname==\"Research\"\n",
    "    {\"$match\": {\"department_info.dname\": \"Research\"}}\n",
    "])\n",
    "\n",
    "# Print the results\n",
    "for emp in research_department_employees:\n",
    "    pp.pprint(emp)\n",
    "    \n",
    "# The above query will look like follows in SQL \n",
    "# SELECT e.*\n",
    "# FROM employees e\n",
    "# JOIN departments d ON e.dno = d.dno\n",
    "# WHERE d.dname = 'Administration';"
   ]
  },
  {
   "cell_type": "code",
   "execution_count": null,
   "id": "9a9131be",
   "metadata": {},
   "outputs": [],
   "source": [
    "# Query to find projects managed by the \"Research\" department\n",
    "\n",
    "research_department_projects = db.projects.aggregate([\n",
    "    {\n",
    "        # Performs a join between employees and departments on the dno file \n",
    "        \"$lookup\": {\n",
    "            \"from\": \"departments\",\n",
    "            \"localField\": \"dnum\",\n",
    "            \"foreignField\": \"dnumber\",\n",
    "            \"as\": \"department_info\"\n",
    "        }\n",
    "    },\n",
    "    # Deconstructs the array field to output a document for each element\n",
    "    {\"$unwind\": \"$department_info\"},\n",
    "    \n",
    "    # Filtering operation to include only dname==Research\n",
    "    {\"$match\": {\"department_info.dname\": \"Research\"}}\n",
    "])\n",
    "\n",
    "print(\"Projects Managed by Research Department:\")\n",
    "\n",
    "for proj in research_department_projects:\n",
    "    pp.pprint(proj)"
   ]
  },
  {
   "cell_type": "markdown",
   "id": "73fc46df",
   "metadata": {},
   "source": [
    "##### <span style=color:blue>Aggregation Queries</span>"
   ]
  },
  {
   "cell_type": "code",
   "execution_count": null,
   "id": "7a0276e1",
   "metadata": {},
   "outputs": [],
   "source": [
    "# Calculate the average salary in each department\n",
    "\n",
    "average_salary_per_department = db.employees.aggregate([\n",
    "    {\n",
    "        # Group documents by the dno field and create a new average_salary field\n",
    "        \"$group\": {\n",
    "            \"_id\": \"$dno\",\n",
    "            \"average_salary\": {\"$avg\": \"$salary\"}\n",
    "        }\n",
    "    },\n",
    "    {\n",
    "        # Perform join between departments and employees\n",
    "        \"$lookup\": {\n",
    "            \"from\": \"departments\",\n",
    "            \"localField\": \"_id\",\n",
    "            \"foreignField\": \"dnumber\",\n",
    "            \"as\": \"department_info\"\n",
    "        }\n",
    "    },\n",
    "    {\"$unwind\": \"$department_info\"},\n",
    "    {\n",
    "        # Shape the output documents to include only the required fields.\n",
    "        \"$project\": {\n",
    "            \"department_name\": \"$department_info.dname\",\n",
    "            \"average_salary\": 1\n",
    "        }\n",
    "    }\n",
    "])\n",
    "\n",
    "print(\"Average Salary Per Department:\")\n",
    "\n",
    "for dept in average_salary_per_department:\n",
    "    pp.pprint(dept)\n",
    "\n",
    "# The above query will look like follows in SQL\n",
    "# SELECT \n",
    "#     d.dname AS department_name,\n",
    "#     AVG(e.salary) AS average_salary\n",
    "# FROM \n",
    "#     employees e\n",
    "# JOIN \n",
    "#     departments d ON e.dno = d.dnumber\n",
    "# GROUP BY \n",
    "#     d.dname;"
   ]
  },
  {
   "cell_type": "code",
   "execution_count": 13,
   "id": "b6227efc",
   "metadata": {},
   "outputs": [
    {
     "name": "stdout",
     "output_type": "stream",
     "text": [
      "Total Hours Worked on Each Project:\n",
      "{'_id': 1, 'project_name': 'ProductX', 'total_hours': 52.5}\n",
      "{'_id': 20, 'project_name': 'Reorganization', 'total_hours': 25.0}\n",
      "{'_id': 30, 'project_name': 'Newbenefits', 'total_hours': 55.0}\n",
      "{'_id': 10, 'project_name': 'Computerization', 'total_hours': 55.0}\n",
      "{'_id': 3, 'project_name': 'ProductZ', 'total_hours': 50.0}\n",
      "{'_id': 2, 'project_name': 'ProductY', 'total_hours': 37.5}\n"
     ]
    }
   ],
   "source": [
    "# Aggregation pipeline to find the total hours worked on each project\n",
    "total_hours_per_project = db.works_on.aggregate([\n",
    "    {\n",
    "        \"$group\": {\n",
    "            \"_id\": \"$pno\",\n",
    "            \"total_hours\": {\"$sum\": \"$hours\"}\n",
    "        }\n",
    "    },\n",
    "    {\n",
    "        \"$lookup\": {\n",
    "            \"from\": \"projects\",\n",
    "            \"localField\": \"_id\",\n",
    "            \"foreignField\": \"pnumber\",\n",
    "            \"as\": \"project_info\"\n",
    "        }\n",
    "    },\n",
    "    {\"$unwind\": \"$project_info\"},\n",
    "    {\n",
    "        \"$project\": {\n",
    "            \"project_name\": \"$project_info.pname\",\n",
    "            \"total_hours\": 1\n",
    "        }\n",
    "    }\n",
    "])\n",
    "\n",
    "print(\"Total Hours Worked on Each Project:\")\n",
    "\n",
    "for project in total_hours_per_project:\n",
    "    pp.pprint(project)\n",
    "    \n",
    "# The above query will look like follows in SQL\n",
    "# SELECT \n",
    "#     p.pname AS project_name,\n",
    "#     SUM(COALESCE(w.hours, 0)) AS total_hours\n",
    "# FROM \n",
    "#     works_on w\n",
    "# JOIN \n",
    "#     projects p ON w.pno = p.pnumber\n",
    "# GROUP BY \n",
    "#     p.pname;"
   ]
  },
  {
   "cell_type": "code",
   "execution_count": 12,
   "id": "fd156d9c",
   "metadata": {},
   "outputs": [
    {
     "name": "stdout",
     "output_type": "stream",
     "text": [
      "Matched 1 documents and modified 1 documents.\n"
     ]
    }
   ],
   "source": [
    "# Update all documents in works_on where hours is NaN to set hours to 0\n",
    "result = db.works_on.update_many(\n",
    "    {\"hours\": {\"$exists\": True, \"$type\": \"double\", \"$in\": [float('nan')]}},\n",
    "    {\"$set\": {\"hours\": 0}}\n",
    ")\n",
    "\n",
    "print(f\"Matched {result.matched_count} documents and modified {result.modified_count} documents.\")"
   ]
  },
  {
   "cell_type": "code",
   "execution_count": null,
   "id": "84f03795",
   "metadata": {},
   "outputs": [],
   "source": [
    "# Run the \"Aggregation pipeline to find the total hours worked on each project\" again\n",
    "# And check if you're getting nan values now"
   ]
  }
 ],
 "metadata": {
  "kernelspec": {
   "display_name": "Python 3 (ipykernel)",
   "language": "python",
   "name": "python3"
  },
  "language_info": {
   "codemirror_mode": {
    "name": "ipython",
    "version": 3
   },
   "file_extension": ".py",
   "mimetype": "text/x-python",
   "name": "python",
   "nbconvert_exporter": "python",
   "pygments_lexer": "ipython3",
   "version": "3.11.7"
  }
 },
 "nbformat": 4,
 "nbformat_minor": 5
}
