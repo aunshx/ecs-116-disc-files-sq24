{
 "cells": [
  {
   "cell_type": "markdown",
   "id": "e82680c1",
   "metadata": {},
   "source": [
    "Using python to load and manipulate POSTGRES data"
   ]
  },
  {
   "cell_type": "code",
   "execution_count": 1,
   "id": "e7a905e6",
   "metadata": {},
   "outputs": [],
   "source": [
    "# Boiled plate code - (You could delete or comment out the packages which are not being used)\n",
    "\n",
    "import sys \n",
    "import json\n",
    "import csv\n",
    "import yaml\n",
    "\n",
    "import pandas as pd\n",
    "import numpy as np\n",
    "\n",
    "import matplotlib as mpl"
   ]
  },
  {
   "cell_type": "code",
   "execution_count": 2,
   "id": "588f49dd",
   "metadata": {},
   "outputs": [
    {
     "name": "stdout",
     "output_type": "stream",
     "text": [
      "Requirement already satisfied: psycopg2 in d:\\anaconda\\lib\\site-packages (2.9.9)\n"
     ]
    }
   ],
   "source": [
    "# Install psycopg2 (PostgreSQL database adapter for the Python programming language)\n",
    "\n",
    "!pip install psycopg2"
   ]
  },
  {
   "cell_type": "code",
   "execution_count": 3,
   "id": "e9670593",
   "metadata": {
    "scrolled": true
   },
   "outputs": [],
   "source": [
    "# Importing the package\n",
    "\n",
    "import psycopg2"
   ]
  },
  {
   "cell_type": "code",
   "execution_count": 4,
   "id": "3896760e",
   "metadata": {},
   "outputs": [],
   "source": [
    "# Setting up Postgres connection. Note database name is \"discussion2\".\n",
    "# https://earthly.dev/blog/psycopg2-postgres-python/"
   ]
  },
  {
   "cell_type": "code",
   "execution_count": 5,
   "id": "59d35058",
   "metadata": {},
   "outputs": [
    {
     "name": "stdout",
     "output_type": "stream",
     "text": [
      "Configuration file created successfully.\n"
     ]
    }
   ],
   "source": [
    "# Save database configuration to an INI file\n",
    "\n",
    "ini_content = \"\"\"\n",
    "[postgresql]\n",
    "database=discussion2\n",
    "user=postgres\n",
    "password=postgres\n",
    "host=localhost\n",
    "port=5432\n",
    "\"\"\"\n",
    "\n",
    "with open('database.ini', 'w') as f:\n",
    "    f.write(ini_content.strip())\n",
    "\n",
    "print(\"Configuration file created successfully.\")"
   ]
  },
  {
   "cell_type": "code",
   "execution_count": 6,
   "id": "12c48874",
   "metadata": {},
   "outputs": [],
   "source": [
    "from configparser import ConfigParser"
   ]
  },
  {
   "cell_type": "code",
   "execution_count": 7,
   "id": "ab1bf670",
   "metadata": {},
   "outputs": [],
   "source": [
    "# Select the database.ini file \n",
    "\n",
    "def config(filename='database.ini', section='postgresql'):\n",
    "    # Create a parser\n",
    "    parser = ConfigParser()\n",
    "    # Read config file\n",
    "    parser.read(filename)\n",
    "\n",
    "    # Get section, default to postgresql\n",
    "    db = {}\n",
    "    if parser.has_section(section):\n",
    "        params = parser.items(section)\n",
    "        for param in params:\n",
    "            db[param[0]] = param[1]\n",
    "    else:\n",
    "        raise Exception(f'Section {section} not found in the {filename} file')\n",
    "\n",
    "    return db"
   ]
  },
  {
   "cell_type": "code",
   "execution_count": 8,
   "id": "f7bdd3d1",
   "metadata": {},
   "outputs": [],
   "source": [
    "db_conn = None  # Define db_conn at the beginning"
   ]
  },
  {
   "cell_type": "code",
   "execution_count": 9,
   "id": "4fee2438",
   "metadata": {},
   "outputs": [
    {
     "name": "stdout",
     "output_type": "stream",
     "text": [
      "{'database': 'discussion2-new', 'user': 'postgres', 'password': 'postgres', 'host': 'localhost', 'port': '5432'}\n",
      "Successfully connected to the database.\n"
     ]
    }
   ],
   "source": [
    "try:\n",
    "    # Read connection parameters\n",
    "    params = config()\n",
    "    print(config())\n",
    "    \n",
    "\n",
    "    # Connect to the PostgreSQL database\n",
    "    db_conn = psycopg2.connect(**params)\n",
    "\n",
    "    print(\"Successfully connected to the database.\")\n",
    "\n",
    "    # Create a cursor object\n",
    "    cur = db_conn.cursor()\n",
    "        \n",
    "    # Example query (Modify as needed)\n",
    "    q1 = '''\n",
    "        SELECT table_name\n",
    "        FROM information_schema.tables\n",
    "        WHERE table_schema='company'\n",
    "          AND table_type='BASE TABLE';\n",
    "    '''\n",
    "    cur.execute(q1)\n",
    "    \n",
    "except Exception as e:\n",
    "    error = e"
   ]
  },
  {
   "cell_type": "code",
   "execution_count": 10,
   "id": "0ca9a6cd",
   "metadata": {},
   "outputs": [
    {
     "name": "stdout",
     "output_type": "stream",
     "text": [
      "[('dept_locations',), ('project',), ('department',), ('dependent',), ('employee',), ('works_on',), ('employee_feedback',)]\n"
     ]
    }
   ],
   "source": [
    "print(cur.fetchmany(10))"
   ]
  },
  {
   "cell_type": "code",
   "execution_count": 11,
   "id": "e82b9906",
   "metadata": {},
   "outputs": [],
   "source": [
    "q2 = '''set search_path to company'''\n",
    "cur.execute(q2)\n",
    "db_conn.commit()"
   ]
  },
  {
   "cell_type": "code",
   "execution_count": 12,
   "id": "ad9bd166",
   "metadata": {},
   "outputs": [
    {
     "name": "stdout",
     "output_type": "stream",
     "text": [
      "[('Research', 5, '333445555', '5/22/88'), ('Administration', 4, '987654321', '1/1/95'), ('Headquarters', 1, '888665555', '6/19/81')]\n"
     ]
    }
   ],
   "source": [
    "q3 = '''\n",
    "SELECT *\n",
    "FROM department\n",
    "'''\n",
    "cur.execute(q3)\n",
    "print(cur.fetchmany(20))"
   ]
  },
  {
   "cell_type": "code",
   "execution_count": 13,
   "id": "aeb2beab",
   "metadata": {},
   "outputs": [],
   "source": [
    "db_conn.close()"
   ]
  },
  {
   "cell_type": "markdown",
   "id": "00af0839",
   "metadata": {},
   "source": [
    "<span style=color:blue>It is a good practice to \"close\" your connection to a database before exiting</span>"
   ]
  }
 ],
 "metadata": {
  "kernelspec": {
   "display_name": "Python 3 (ipykernel)",
   "language": "python",
   "name": "python3"
  },
  "language_info": {
   "codemirror_mode": {
    "name": "ipython",
    "version": 3
   },
   "file_extension": ".py",
   "mimetype": "text/x-python",
   "name": "python",
   "nbconvert_exporter": "python",
   "pygments_lexer": "ipython3",
   "version": "3.11.7"
  }
 },
 "nbformat": 4,
 "nbformat_minor": 5
}
