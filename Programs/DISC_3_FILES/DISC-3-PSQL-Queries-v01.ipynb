{
 "cells": [
  {
   "cell_type": "markdown",
   "id": "e82680c1",
   "metadata": {},
   "source": [
    "Using python to load and manipulate POSTGRES data"
   ]
  },
  {
   "cell_type": "code",
   "execution_count": 2,
   "id": "e7a905e6",
   "metadata": {},
   "outputs": [],
   "source": [
    "# Boiled plate code - (You could delete or comment out the packages which are not being used)\n",
    "\n",
    "import sys \n",
    "import json\n",
    "import csv\n",
    "import yaml\n",
    "\n",
    "import pandas as pd\n",
    "import numpy as np\n",
    "\n",
    "import matplotlib as mpl"
   ]
  },
  {
   "cell_type": "code",
   "execution_count": 3,
   "id": "588f49dd",
   "metadata": {},
   "outputs": [
    {
     "name": "stdout",
     "output_type": "stream",
     "text": [
      "Requirement already satisfied: psycopg2 in d:\\anaconda\\lib\\site-packages (2.9.9)\n"
     ]
    }
   ],
   "source": [
    "# Install psycopg2 (PostgreSQL database adapter for the Python programming language)\n",
    "\n",
    "!pip install psycopg2"
   ]
  },
  {
   "cell_type": "code",
   "execution_count": 4,
   "id": "e9670593",
   "metadata": {
    "scrolled": true
   },
   "outputs": [],
   "source": [
    "# Importing the package\n",
    "\n",
    "import psycopg2"
   ]
  },
  {
   "cell_type": "code",
   "execution_count": 5,
   "id": "3896760e",
   "metadata": {},
   "outputs": [],
   "source": [
    "# Setting up Postgres connection. Note database name is \"discussion2\".\n",
    "# https://earthly.dev/blog/psycopg2-postgres-python/"
   ]
  },
  {
   "cell_type": "code",
   "execution_count": 6,
   "id": "59d35058",
   "metadata": {},
   "outputs": [
    {
     "name": "stdout",
     "output_type": "stream",
     "text": [
      "Configuration file created successfully.\n"
     ]
    }
   ],
   "source": [
    "# Save database configuration to an INI file\n",
    "\n",
    "ini_content = \"\"\"\n",
    "[postgresql]\n",
    "database=discussion2\n",
    "user=postgres\n",
    "password=postgres\n",
    "host=localhost\n",
    "port=5432\n",
    "\"\"\"\n",
    "\n",
    "with open('database.ini', 'w') as f:\n",
    "    f.write(ini_content.strip())\n",
    "\n",
    "print(\"Configuration file created successfully.\")"
   ]
  },
  {
   "cell_type": "code",
   "execution_count": 7,
   "id": "12c48874",
   "metadata": {},
   "outputs": [],
   "source": [
    "from configparser import ConfigParser"
   ]
  },
  {
   "cell_type": "code",
   "execution_count": 8,
   "id": "ab1bf670",
   "metadata": {},
   "outputs": [],
   "source": [
    "# Select the database.ini file \n",
    "\n",
    "def config(filename='database.ini', section='postgresql'):\n",
    "    # Create a parser\n",
    "    parser = ConfigParser()\n",
    "    # Read config file\n",
    "    parser.read(filename)\n",
    "\n",
    "    # Get section, default to postgresql\n",
    "    db = {}\n",
    "    if parser.has_section(section):\n",
    "        params = parser.items(section)\n",
    "        for param in params:\n",
    "            db[param[0]] = param[1]\n",
    "    else:\n",
    "        raise Exception(f'Section {section} not found in the {filename} file')\n",
    "\n",
    "    return db"
   ]
  },
  {
   "cell_type": "code",
   "execution_count": 9,
   "id": "f7bdd3d1",
   "metadata": {},
   "outputs": [],
   "source": [
    "db_conn = None  # Define db_conn at the beginning"
   ]
  },
  {
   "cell_type": "code",
   "execution_count": 10,
   "id": "4fee2438",
   "metadata": {},
   "outputs": [
    {
     "name": "stdout",
     "output_type": "stream",
     "text": [
      "{'database': 'discussion2-new', 'user': 'postgres', 'password': 'postgres', 'host': 'localhost', 'port': '5432'}\n",
      "Successfully connected to the database.\n"
     ]
    }
   ],
   "source": [
    "try:\n",
    "    # Read connection parameters\n",
    "    params = config()\n",
    "    print(config())\n",
    "    \n",
    "\n",
    "    # Connect to the PostgreSQL database\n",
    "    db_conn = psycopg2.connect(**params)\n",
    "\n",
    "    print(\"Successfully connected to the database.\")\n",
    "\n",
    "    # Create a cursor object\n",
    "    cur = db_conn.cursor()\n",
    "        \n",
    "    # Example query (Modify as needed)\n",
    "    q1 = '''\n",
    "        SELECT table_name\n",
    "        FROM information_schema.tables\n",
    "        WHERE table_schema='company'\n",
    "          AND table_type='BASE TABLE';\n",
    "    '''\n",
    "    cur.execute(q1)\n",
    "    \n",
    "except Exception as e:\n",
    "    error = e"
   ]
  },
  {
   "cell_type": "code",
   "execution_count": 11,
   "id": "0ca9a6cd",
   "metadata": {},
   "outputs": [
    {
     "name": "stdout",
     "output_type": "stream",
     "text": [
      "[('dept_locations',), ('project',), ('department',), ('dependent',), ('employee',), ('works_on',), ('employee_feedback',)]\n"
     ]
    }
   ],
   "source": [
    "print(cur.fetchmany(10))"
   ]
  },
  {
   "cell_type": "code",
   "execution_count": 12,
   "id": "e82b9906",
   "metadata": {},
   "outputs": [],
   "source": [
    "q2 = '''set search_path to company'''\n",
    "cur.execute(q2)\n",
    "db_conn.commit()"
   ]
  },
  {
   "cell_type": "code",
   "execution_count": 13,
   "id": "ad9bd166",
   "metadata": {},
   "outputs": [
    {
     "name": "stdout",
     "output_type": "stream",
     "text": [
      "[('Research', 5, '333445555', '5/22/88'), ('Administration', 4, '987654321', '1/1/95'), ('Headquarters', 1, '888665555', '6/19/81')]\n"
     ]
    }
   ],
   "source": [
    "q3 = '''\n",
    "SELECT *\n",
    "FROM department\n",
    "'''\n",
    "cur.execute(q3)\n",
    "print(cur.fetchmany(20))"
   ]
  },
  {
   "cell_type": "code",
   "execution_count": 14,
   "id": "dcacaf47",
   "metadata": {},
   "outputs": [
    {
     "name": "stdout",
     "output_type": "stream",
     "text": [
      "\n",
      "SELECT *\n",
      "FROM employee\n",
      "WHERE fname LIKE 'J%'\n",
      "[('John', 'B', 'Smith', '123456789', '1/9/65', '731-Fondren-Houston-TX', 'M', 30000, '333445555', 5), ('Jennifer', 'S', 'Wallace', '987654321', '6/20/41', '291-Berry-Bellaire-TX', 'F', 43000, '888665555', 4), ('Joyce', 'A', 'English', '453453453', '7/31/72', '5631-Rice-Houston-TX', 'F', 25000, '333445555', 5), ('James', 'E', 'Borg', '888665555', '11/10/37', '450-Stone-Houston-TX', 'M', 55000, None, 1)]\n"
     ]
    }
   ],
   "source": [
    "# goal is to get employees whose first names start with a specified initial\n",
    "#   the WHERE from the query will look like: WHERE fname LIKE 'J%'  (where J will be a parameter)\n",
    "\n",
    "q4start = \"\"\"\n",
    "SELECT *\n",
    "FROM employee\n",
    "WHERE fname LIKE '\"\"\" \n",
    "\n",
    "q4end = \"\"\"%'\"\"\"\n",
    "\n",
    "finit = 'J'\n",
    "\n",
    "q4 = q4start + finit + q4end\n",
    "\n",
    "print(q4)\n",
    "\n",
    "cur.execute(q4)\n",
    "\n",
    "print(cur.fetchmany(20))\n",
    "\n",
    "# COMMITING THE TRANSACTION\n",
    "db_conn.commit()"
   ]
  },
  {
   "cell_type": "markdown",
   "id": "26cc45b2",
   "metadata": {},
   "source": [
    "<span style=\"color:blue\">\n",
    ".commit() is used to revert (or undo) all the changes made in the current transaction. It is an essential feature for maintaining data integrity and consistency in database operations\n",
    "</span>"
   ]
  },
  {
   "cell_type": "code",
   "execution_count": 15,
   "id": "3ee0ecf2",
   "metadata": {},
   "outputs": [
    {
     "name": "stdout",
     "output_type": "stream",
     "text": [
      "[]\n"
     ]
    }
   ],
   "source": [
    "import pprint\n",
    "pprint.pp(cur.fetchmany(20))"
   ]
  },
  {
   "cell_type": "markdown",
   "id": "588e7109",
   "metadata": {},
   "source": [
    "<span style=color:blue>Why is the above command giving us empty?  It is because the fetchone() and fetchmany() cycle through the answer and then finish.  To get the full answer we have to execute the query again</span>"
   ]
  },
  {
   "cell_type": "markdown",
   "id": "7f948d2c",
   "metadata": {},
   "source": [
    "### Updates and constraints"
   ]
  },
  {
   "cell_type": "code",
   "execution_count": 16,
   "id": "0d085fe8",
   "metadata": {},
   "outputs": [],
   "source": [
    "# IMPORTANT! Only if you have constraint errors!!!!\n",
    "\n",
    "q1000 = '''\n",
    "    ALTER TABLE works_on DROP CONSTRAINT fk_employee;\n",
    "'''\n",
    "\n",
    "q1001 = '''\n",
    "    ALTER TABLE employee DROP CONSTRAINT unique_ssn;\n",
    "'''\n",
    "\n",
    "cur.execute(q1000)\n",
    "cur.execute(q1001)\n",
    "db_conn.commit()"
   ]
  },
  {
   "cell_type": "code",
   "execution_count": null,
   "id": "86058b82",
   "metadata": {},
   "outputs": [],
   "source": [
    "\n",
    "q4 = '''\n",
    "ALTER TABLE works_on\n",
    "ADD CONSTRAINT fk_employee\n",
    "FOREIGN KEY (essn)\n",
    "REFERENCES employee(ssn);\n",
    "'''\n",
    "cur.execute(q4)"
   ]
  },
  {
   "cell_type": "markdown",
   "id": "a8d63a94",
   "metadata": {},
   "source": [
    "InvalidForeignKey, indicates that the foreign key constraint you are trying to add on the works_on table cannot be enforced because the referenced column in the employee table (ssn) does not have a unique constraint. A foreign key must reference a primary key or a unique column in the referenced table."
   ]
  },
  {
   "cell_type": "code",
   "execution_count": null,
   "id": "f620c3ad",
   "metadata": {},
   "outputs": [],
   "source": [
    "#Rolling back the transaction\n",
    "db_conn.rollback()\n",
    "\n",
    "# Check if the ssn column in employee has only unique values\n",
    "q5='''\n",
    "SELECT ssn, COUNT(*) FROM employee GROUP BY ssn HAVING COUNT(*) > 1;\n",
    "'''\n",
    "cur.execute(q5)\n",
    "print(cur.fetchall())"
   ]
  },
  {
   "cell_type": "code",
   "execution_count": null,
   "id": "15f207e7",
   "metadata": {},
   "outputs": [],
   "source": [
    "q5 = '''\n",
    "ALTER TABLE employee\n",
    "ADD CONSTRAINT unique_ssn UNIQUE (ssn);\n",
    "'''\n",
    "\n",
    "cur.execute(q5)\n",
    "print('Column unique_ssn updated to only values')"
   ]
  },
  {
   "cell_type": "markdown",
   "id": "89ac94ef",
   "metadata": {},
   "source": [
    "<span style=\"color:blue;\"> Now that we have set column ssn to be unique, we can go ahead and create a foreign key in works_on for column essn which references ssn in the table employee</span>"
   ]
  },
  {
   "cell_type": "code",
   "execution_count": null,
   "id": "7d340824",
   "metadata": {},
   "outputs": [],
   "source": [
    "# Setting a foreign key on essn (works_on) which references ssn (employee)\n",
    "\n",
    "q6 = '''\n",
    "ALTER TABLE works_on\n",
    "ADD CONSTRAINT fk_employee\n",
    "FOREIGN KEY (essn)\n",
    "REFERENCES employee(ssn);\n",
    "'''\n",
    "cur.execute(q6)\n",
    "print('Foreign Key Created')\n",
    "\n",
    "# Let's commit this \n",
    "db_conn.commit()"
   ]
  },
  {
   "cell_type": "markdown",
   "id": "b9e10084",
   "metadata": {},
   "source": [
    "<span style=\"color:blue;\">Let's try to add an employee which does not exist to the table works_on and see what happens</span>"
   ]
  },
  {
   "cell_type": "code",
   "execution_count": null,
   "id": "8d17819b",
   "metadata": {},
   "outputs": [],
   "source": [
    "# Inserting into works_on and employee with ssn 999999999\n",
    "\n",
    "q7 = '''\n",
    "INSERT INTO works_on (essn, pno, hours)\n",
    "VALUES ('999999999', 101, 30);\n",
    "'''\n",
    "\n",
    "cur.execute(q7)"
   ]
  },
  {
   "cell_type": "markdown",
   "id": "30980c94",
   "metadata": {},
   "source": [
    "<span style=\"color:blue;\">Employee with ssn 999999999 does not exist hence when we try to add that employee to the works_on table, we get a violation</span>"
   ]
  },
  {
   "cell_type": "code",
   "execution_count": null,
   "id": "80a811b4",
   "metadata": {},
   "outputs": [],
   "source": [
    "#Rolling back the transaction\n",
    "db_conn.rollback()\n",
    "\n",
    "# Let's add an employee to wokrs_on which does exist\n",
    "q8 = '''\n",
    "    INSERT INTO works_on (essn, pno, hours) \n",
    "    VALUES ('123456789', 10, 20);\n",
    "'''\n",
    "\n",
    "cur.execute(q8);\n",
    "print('Employee added to works_on')\n"
   ]
  },
  {
   "cell_type": "code",
   "execution_count": null,
   "id": "59d6a954",
   "metadata": {},
   "outputs": [],
   "source": [
    "# Checking if the previous operation was successful\n",
    "q9 = '''\n",
    "    SELECT * FROM works_on;\n",
    "'''\n",
    "\n",
    "cur.execute(q9)\n",
    "cur.fetchall()"
   ]
  },
  {
   "cell_type": "code",
   "execution_count": null,
   "id": "d116a650",
   "metadata": {},
   "outputs": [],
   "source": [
    "db_conn.commit()\n",
    "\n",
    "# Deleting an employee now that it is referenced\n",
    "\n",
    "q10 = '''\n",
    "    DELETE FROM employee WHERE ssn='123456789';\n",
    "'''\n",
    "\n",
    "cur.execute(q10);"
   ]
  },
  {
   "cell_type": "markdown",
   "id": "f26ec173",
   "metadata": {},
   "source": [
    "<span style=\"color:blue;\">Creating a table with constraints and keys</span>"
   ]
  },
  {
   "cell_type": "code",
   "execution_count": null,
   "id": "15d74023",
   "metadata": {},
   "outputs": [],
   "source": [
    "db_conn.rollback()\n",
    "\n",
    "#Let's create a table named employee_benefits which will record benefits each employee receives. The table will include:\n",
    "# A unique benefit ID as the primary key.\n",
    "# The SSN of the employee, which references the ssn column in the employee table (assuming ssn is either a primary key or at least a unique key in employee).\n",
    "# Columns for the type of benefit and the benefit value.\n",
    "\n",
    "q10 = '''\n",
    "    CREATE TABLE employee_benefits (\n",
    "    benefit_id SERIAL PRIMARY KEY,\n",
    "    employee_ssn CHAR(9),\n",
    "    benefit_type VARCHAR(100),\n",
    "    benefit_value VARCHAR(100),\n",
    "    FOREIGN KEY (employee_ssn)\n",
    "    REFERENCES employee(ssn)\n",
    "    ON DELETE CASCADE\n",
    ");\n",
    "'''\n",
    "\n",
    "cur.execute(q10)\n",
    "print('Table created')"
   ]
  },
  {
   "cell_type": "code",
   "execution_count": null,
   "id": "8a682281",
   "metadata": {},
   "outputs": [],
   "source": [
    "# Insert some values into the table \n",
    "\n",
    "q11 = '''\n",
    "    INSERT INTO employee_benefits (employee_ssn, benefit_type, benefit_value)\n",
    "    VALUES\n",
    "    ('123456789', 'Health Insurance', 'Full Coverage'),\n",
    "    ('987654321', 'Stock Options', '500 Shares');\n",
    "'''\n",
    "\n",
    "cur.execute(q11)"
   ]
  },
  {
   "cell_type": "code",
   "execution_count": null,
   "id": "d844ff30",
   "metadata": {},
   "outputs": [],
   "source": [
    "# What if we try adding an employee that does not exist?\n",
    "# Remember the foreign key constraints\n",
    "\n",
    "q12 = '''\n",
    "    INSERT INTO employee_benefits (employee_ssn, benefit_type, benefit_value)\n",
    "    VALUES\n",
    "    ('000000000', 'Health Insurance', 'Full Coverage');\n",
    "'''\n",
    "\n",
    "cur.execute(q12)"
   ]
  },
  {
   "cell_type": "code",
   "execution_count": null,
   "id": "11a71018",
   "metadata": {},
   "outputs": [],
   "source": [
    "# Check if an error occurred and handle it\n",
    "if 'error' in locals():\n",
    "    print(\"An error occurred:\", error)"
   ]
  },
  {
   "cell_type": "code",
   "execution_count": null,
   "id": "aeb2beab",
   "metadata": {},
   "outputs": [],
   "source": [
    "db_conn.close()"
   ]
  },
  {
   "cell_type": "markdown",
   "id": "00af0839",
   "metadata": {},
   "source": [
    "<span style=color:blue>It is a good practice to \"close\" your connection to a database before exiting</span>"
   ]
  }
 ],
 "metadata": {
  "kernelspec": {
   "display_name": "Python 3 (ipykernel)",
   "language": "python",
   "name": "python3"
  },
  "language_info": {
   "codemirror_mode": {
    "name": "ipython",
    "version": 3
   },
   "file_extension": ".py",
   "mimetype": "text/x-python",
   "name": "python",
   "nbconvert_exporter": "python",
   "pygments_lexer": "ipython3",
   "version": "3.11.7"
  }
 },
 "nbformat": 4,
 "nbformat_minor": 5
}
