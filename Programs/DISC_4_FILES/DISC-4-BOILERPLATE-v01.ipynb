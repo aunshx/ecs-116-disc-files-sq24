{
 "cells": [
  {
   "cell_type": "markdown",
   "id": "bcdcb1f6",
   "metadata": {},
   "source": [
    "### Using Pandas in Jupyer Notebook"
   ]
  },
  {
   "cell_type": "code",
   "execution_count": 1,
   "id": "cc420c61",
   "metadata": {},
   "outputs": [],
   "source": [
    "# Importing the pandas and os package\n",
    "\n",
    "import pandas as pd \n",
    "import os\n",
    "import matplotlib.pyplot as plt\n"
   ]
  },
  {
   "cell_type": "code",
   "execution_count": null,
   "id": "75751933",
   "metadata": {},
   "outputs": [],
   "source": [
    "# Importing all csv files to create dataframes using your local datapath\n",
    "\n",
    "# NOTE: Change the relative local path used to import the csvs to the ones on your local. Wherever the csvs are stored.\n",
    "relative_local_path = 'D:\\\\ECS 166\\\\COMPANY-EXAMPLE\\\\'\n",
    "\n",
    "department_df = pd.read_csv(f\"{relative_local_path}department.csv\")\n",
    "dependent_df = pd.read_csv(f\"{relative_local_path}dependent.csv\")\n",
    "dept_locations_df = pd.read_csv(f\"{relative_local_path}dept_locations.csv\")\n",
    "employee_df = pd.read_csv(f\"{relative_local_path}employee.csv\")\n",
    "project_df = pd.read_csv(f\"{relative_local_path}project.csv\")\n",
    "works_on_df = pd.read_csv(f\"{relative_local_path}works_on.csv\")"
   ]
  },
  {
   "cell_type": "markdown",
   "id": "af172937",
   "metadata": {},
   "source": [
    "<span style=\"color:gray; font-weight:bold;\">Basic Operations</span> <br>\n",
    "<span style=\"font-style:italic\">Viewing and describing data are fundamental to understand the datasets you work with.\n",
    "</span>"
   ]
  },
  {
   "cell_type": "code",
   "execution_count": null,
   "id": "40983478",
   "metadata": {},
   "outputs": [],
   "source": [
    "# Sanity check to see if the import has worked\n",
    "# .head() will give you the first 5 records of dependent_df\n",
    "\n"
   ]
  },
  {
   "cell_type": "code",
   "execution_count": null,
   "id": "8f71f5b4",
   "metadata": {},
   "outputs": [],
   "source": [
    "# Sanity check to see if the import has worked on employee_df\n"
   ]
  },
  {
   "cell_type": "code",
   "execution_count": null,
   "id": "a931b16a",
   "metadata": {},
   "outputs": [],
   "source": [
    "# .describe() generates statistics for the df on department_df\n",
    "# Includes count, mean, std. deviation, min, max, quartile percent\n",
    "\n"
   ]
  },
  {
   "cell_type": "code",
   "execution_count": null,
   "id": "e625579e",
   "metadata": {},
   "outputs": [],
   "source": [
    "# One more call using .describe() on employee_df\n",
    "\n"
   ]
  },
  {
   "cell_type": "code",
   "execution_count": null,
   "id": "2063a74b",
   "metadata": {},
   "outputs": [],
   "source": [
    "# .info() generates table data including datatypes, memory, number of entries (on department_df)\n"
   ]
  },
  {
   "cell_type": "code",
   "execution_count": null,
   "id": "f80007fc",
   "metadata": {},
   "outputs": [],
   "source": [
    "# One more call using .describe() on employee_df\n"
   ]
  },
  {
   "cell_type": "markdown",
   "id": "dfeb8e83",
   "metadata": {},
   "source": [
    "<span style=\"color:gray; font-weight:bold;\">Using Operators</span> <br>\n",
    "<span style=\"font-style:italic\">Operators can manipulate data directly. For example, we can add columns, perform arithmetic operations, or filter data based on conditions.</span>"
   ]
  },
  {
   "cell_type": "code",
   "execution_count": null,
   "id": "1e56530c",
   "metadata": {},
   "outputs": [],
   "source": [
    "# Arithmetic Operations \n",
    "# Using the employee_df, increase the value of the salary column by 2 and display it \n",
    "\n"
   ]
  },
  {
   "cell_type": "code",
   "execution_count": null,
   "id": "93352792",
   "metadata": {},
   "outputs": [],
   "source": [
    "# Conditional Operations\n",
    "# Return all records with salary over 60k in employee_df\n",
    "\n"
   ]
  },
  {
   "cell_type": "markdown",
   "id": "573cba64",
   "metadata": {},
   "source": [
    "<span style=\"color:gray; font-weight:bold;\">Error Handling</span> <br>\n",
    "<span style=\"font-style:italic\">To ensure that we handle erros when operations fail</span>"
   ]
  },
  {
   "cell_type": "code",
   "execution_count": null,
   "id": "2066165e",
   "metadata": {},
   "outputs": [],
   "source": [
    "# Use a try except block to handle errors \n",
    "# We will try creating a column increase_salary which includes product of the data of non existing column sal with 2\n",
    "\n",
    "    "
   ]
  },
  {
   "cell_type": "markdown",
   "id": "a60fa2e3",
   "metadata": {},
   "source": [
    "<span style=\"color:gray; font-weight:bold;\">Functions</span> <br>\n",
    "<span style=\"font-style:italic\">Pandas offers a variety of functions to efficiently manipulate and analyze data.\n",
    "</span>"
   ]
  },
  {
   "cell_type": "code",
   "execution_count": null,
   "id": "42384238",
   "metadata": {},
   "outputs": [],
   "source": [
    "# Applying a function to a column\n",
    "# Return a new column salary_by_5 with salary multiplied by 5 in employee_df\n",
    "\n"
   ]
  },
  {
   "cell_type": "code",
   "execution_count": null,
   "id": "c6420987",
   "metadata": {},
   "outputs": [],
   "source": [
    "# Return a new column female_employees stating which employees are female in employee_df\n",
    "\n"
   ]
  },
  {
   "cell_type": "code",
   "execution_count": null,
   "id": "5d7e3c39",
   "metadata": {},
   "outputs": [],
   "source": [
    "# Creating custom functions \n",
    "# Create a function to return all employees in a column increase_salary with salaries greater than 60k \n",
    "# or else change salary to 0 in employee_df\n",
    "\n"
   ]
  },
  {
   "cell_type": "markdown",
   "id": "1ddbed00",
   "metadata": {},
   "source": [
    "<span style=\"color:gray; font-weight:bold;\">Changing the Dataframe</span> <br>\n",
    "<span style=\"font-style:italic\">Manipulate the dataframe definition</span>"
   ]
  },
  {
   "cell_type": "code",
   "execution_count": null,
   "id": "ba20d765",
   "metadata": {},
   "outputs": [],
   "source": [
    "# Remove the column female_employees from employee_df\n"
   ]
  },
  {
   "cell_type": "code",
   "execution_count": null,
   "id": "2bbcbcc8",
   "metadata": {},
   "outputs": [],
   "source": [
    "# In-place remove the column increase_salary from employee_df using .pop() and return a series \n",
    "# We can now perform operations on this column like it were a DS\n",
    "\n"
   ]
  },
  {
   "cell_type": "code",
   "execution_count": null,
   "id": "61e39d0b",
   "metadata": {},
   "outputs": [],
   "source": [
    "# Get mean of all values in increase_salary_col \n",
    "\n"
   ]
  },
  {
   "cell_type": "code",
   "execution_count": null,
   "id": "7a8e54ed",
   "metadata": {},
   "outputs": [],
   "source": [
    "# Get the 5th value in increase_salary_col. Use a try and except block as well.\n",
    "\n"
   ]
  },
  {
   "cell_type": "code",
   "execution_count": null,
   "id": "589affee",
   "metadata": {},
   "outputs": [],
   "source": [
    "# Rename the column address to shipping_address in employee_df\n"
   ]
  },
  {
   "cell_type": "markdown",
   "id": "1b381bf5",
   "metadata": {},
   "source": [
    "<span style=\"color:gray; font-weight:bold;\">Using iloc</span> <br>\n",
    "<span style=\"font-style:italic\">Used for integer-location based indexing, meaning it allows you to access parts of the DataFrame or Series by using integer indices\n",
    "</span>"
   ]
  },
  {
   "cell_type": "code",
   "execution_count": null,
   "id": "46e234e3",
   "metadata": {},
   "outputs": [],
   "source": [
    "# Accessing the third record in the employee_df and store it in third_rec\n",
    "# Returns a 1D series DS\n"
   ]
  },
  {
   "cell_type": "code",
   "execution_count": null,
   "id": "ae984769",
   "metadata": {},
   "outputs": [],
   "source": [
    "# Return the first five employees in employee_df and store in first_five\n",
    "# Returns 2D Series DS\n"
   ]
  },
  {
   "cell_type": "code",
   "execution_count": null,
   "id": "569d0bfd",
   "metadata": {},
   "outputs": [],
   "source": [
    "# Print the value at the 8th location in third_rec\n"
   ]
  },
  {
   "cell_type": "code",
   "execution_count": null,
   "id": "42cb5460",
   "metadata": {},
   "outputs": [],
   "source": [
    "# Add Values in the salary column for the first and last element in first_five\n"
   ]
  },
  {
   "cell_type": "code",
   "execution_count": null,
   "id": "3574a5e7",
   "metadata": {},
   "outputs": [],
   "source": [
    "# What if I don't know the index of the salary column? Use columns.get_loc(columnName)\n"
   ]
  },
  {
   "cell_type": "markdown",
   "id": "fa0984fc",
   "metadata": {},
   "source": [
    "<span style=\"color:gray; font-weight:bold;\">Data Visualization</span> <br>\n",
    "<span style=\"font-style:italic\">Use matplotlib to visualize your data</span>"
   ]
  },
  {
   "cell_type": "code",
   "execution_count": null,
   "id": "4fc6e6b9",
   "metadata": {},
   "outputs": [],
   "source": [
    "# Plot a histogram of the Salary column in employee_df\n",
    "\n"
   ]
  },
  {
   "cell_type": "code",
   "execution_count": null,
   "id": "6773ebe0",
   "metadata": {},
   "outputs": [],
   "source": [
    "# Plot a bar graph showing number of employees in each department\n",
    "\n",
    "# Count the number of employees in each department\n",
    "\n",
    "\n",
    "# Plot a bar chart of the department counts\n"
   ]
  },
  {
   "cell_type": "markdown",
   "id": "17981f5e",
   "metadata": {},
   "source": [
    "<span style=\"color:gray; font-weight:bold;\">Exporting your DataFrame</span>"
   ]
  },
  {
   "cell_type": "code",
   "execution_count": null,
   "id": "300f5c91",
   "metadata": {},
   "outputs": [],
   "source": [
    "# Print the current working directory\n",
    "\n",
    "print(os.getcwd())"
   ]
  },
  {
   "cell_type": "code",
   "execution_count": null,
   "id": "4c862402",
   "metadata": {},
   "outputs": [],
   "source": [
    "# Output it to any location on your local with the name disc-4-output.csv (Can have any name).\n"
   ]
  }
 ],
 "metadata": {
  "kernelspec": {
   "display_name": "Python 3 (ipykernel)",
   "language": "python",
   "name": "python3"
  },
  "language_info": {
   "codemirror_mode": {
    "name": "ipython",
    "version": 3
   },
   "file_extension": ".py",
   "mimetype": "text/x-python",
   "name": "python",
   "nbconvert_exporter": "python",
   "pygments_lexer": "ipython3",
   "version": "3.11.7"
  }
 },
 "nbformat": 4,
 "nbformat_minor": 5
}
