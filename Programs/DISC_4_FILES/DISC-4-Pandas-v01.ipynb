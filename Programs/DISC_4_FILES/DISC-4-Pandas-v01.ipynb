{
 "cells": [
  {
   "cell_type": "markdown",
   "id": "5cbd3315",
   "metadata": {},
   "source": [
    "### Using Pandas in Jupyer Notebook"
   ]
  },
  {
   "cell_type": "code",
   "execution_count": 91,
   "id": "cf55f6e2",
   "metadata": {},
   "outputs": [],
   "source": [
    "# Importing the pandas and os package\n",
    "\n",
    "import pandas as pd \n",
    "import os\n",
    "import matplotlib.pyplot as plt\n"
   ]
  },
  {
   "cell_type": "code",
   "execution_count": null,
   "id": "467aab25",
   "metadata": {},
   "outputs": [],
   "source": [
    "# Importing all csv files to create dataframes using your local datapath\n",
    "\n",
    "# NOTE: Change the relative local path used to import the csvs to the ones on your local. Wherever the csvs are stored.\n",
    "relative_local_path = 'D:\\\\ECS 166\\\\COMPANY-EXAMPLE\\\\'\n",
    "\n",
    "department_df = pd.read_csv(f\"{relative_local_path}department.csv\")\n",
    "dependent_df = pd.read_csv(f\"{relative_local_path}dependent.csv\")\n",
    "dept_locations_df = pd.read_csv(f\"{relative_local_path}dept_locations.csv\")\n",
    "employee_df = pd.read_csv(f\"{relative_local_path}employee.csv\")\n",
    "project_df = pd.read_csv(f\"{relative_local_path}project.csv\")\n",
    "works_on_df = pd.read_csv(f\"{relative_local_path}works_on.csv\")"
   ]
  },
  {
   "cell_type": "markdown",
   "id": "e30a26eb",
   "metadata": {},
   "source": [
    "<span style=\"color:gray; font-weight:bold;\">Basic Operations</span> <br>\n",
    "<span style=\"font-style:italic\">Viewing and describing data are fundamental to understand the datasets you work with.\n",
    "</span>"
   ]
  },
  {
   "cell_type": "code",
   "execution_count": null,
   "id": "5c6411ca",
   "metadata": {},
   "outputs": [],
   "source": [
    "# Sanity check to see if the import has worked\n",
    "# .head() will give you the first 5 records of dependent_df\n",
    "\n",
    "department_df.head()"
   ]
  },
  {
   "cell_type": "code",
   "execution_count": null,
   "id": "0abacf5d",
   "metadata": {},
   "outputs": [],
   "source": [
    "# Sanity check to see if the import has worked on employee_df\n",
    "\n",
    "employee_df.head()"
   ]
  },
  {
   "cell_type": "code",
   "execution_count": null,
   "id": "fc4c5a63",
   "metadata": {},
   "outputs": [],
   "source": [
    "# .describe() generates statistics for the df on department_df\n",
    "# Includes count, mean, std. deviation, min, max, quartile percent\n",
    "\n",
    "department_df.describe()"
   ]
  },
  {
   "cell_type": "code",
   "execution_count": null,
   "id": "ad6ce65d",
   "metadata": {},
   "outputs": [],
   "source": [
    "# One more call using .describe() on employee_df\n",
    "\n",
    "employee_df.describe()"
   ]
  },
  {
   "cell_type": "code",
   "execution_count": null,
   "id": "2f7fb8e6",
   "metadata": {},
   "outputs": [],
   "source": [
    "# .info() generates table data including datatypes, memory, number of entries (on department_df)\n",
    "\n",
    "department_df.info()"
   ]
  },
  {
   "cell_type": "code",
   "execution_count": null,
   "id": "7825ebb2",
   "metadata": {},
   "outputs": [],
   "source": [
    "# One more call using .describe() on employee_df\n",
    "\n",
    "employee_df.info()"
   ]
  },
  {
   "cell_type": "markdown",
   "id": "bcf3d365",
   "metadata": {},
   "source": [
    "<span style=\"color:gray; font-weight:bold;\">Using Operators</span> <br>\n",
    "<span style=\"font-style:italic\">Operators can manipulate data directly. For example, we can add columns, perform arithmetic operations, or filter data based on conditions.</span>"
   ]
  },
  {
   "cell_type": "code",
   "execution_count": null,
   "id": "2d6ff4e2",
   "metadata": {},
   "outputs": [],
   "source": [
    "# Arithmetic Operations \n",
    "# Using the employee_df, increase the value of the salary column by 2 and display it \n",
    "\n",
    "employee_df['increase_salary'] = employee_df['salary'] * 2\n",
    "\n",
    "print(employee_df[['fname', 'increase_salary']])"
   ]
  },
  {
   "cell_type": "code",
   "execution_count": null,
   "id": "4ff8153d",
   "metadata": {},
   "outputs": [],
   "source": [
    "# Conditional Operations\n",
    "# Return all records with salary over 60k in employee_df\n",
    "\n",
    "filtered_df = employee_df[employee_df['increase_salary'] > 60000]\n",
    "\n",
    "print(filtered_df)"
   ]
  },
  {
   "cell_type": "markdown",
   "id": "1e64db22",
   "metadata": {},
   "source": [
    "<span style=\"color:gray; font-weight:bold;\">Error Handling</span> <br>\n",
    "<span style=\"font-style:italic\">To ensure that we handle erros when operations fail</span>"
   ]
  },
  {
   "cell_type": "code",
   "execution_count": null,
   "id": "ce14aa1c",
   "metadata": {},
   "outputs": [],
   "source": [
    "# Use a try except block to handle errors \n",
    "# We will try creating a column increase_salary which includes product of the data of non existing column sal with 2\n",
    "\n",
    "try:\n",
    "    employee_df['increase_salary'] = employee_df['sal'] * 2\n",
    "\n",
    "    print(employee_df[['fname', 'increase_salary']])\n",
    "    \n",
    "except KeyError as e:\n",
    "    print(f\"Error: One of the columns does not exist in the DataFrame. Missing column: {e}\")\n",
    "    \n",
    "except Exception as e:\n",
    "    print(f\"An unexpected error occurred: {e}\")\n",
    "    "
   ]
  },
  {
   "cell_type": "markdown",
   "id": "89baef5c",
   "metadata": {},
   "source": [
    "<span style=\"color:gray; font-weight:bold;\">Functions</span> <br>\n",
    "<span style=\"font-style:italic\">Pandas offers a variety of functions to efficiently manipulate and analyze data.\n",
    "</span>"
   ]
  },
  {
   "cell_type": "code",
   "execution_count": null,
   "id": "98fcb172",
   "metadata": {},
   "outputs": [],
   "source": [
    "# Applying a function to a column\n",
    "# Return a new column salary_by_5 with salary multiplied by 5 in employee_df\n",
    "\n",
    "employee_df['salary_by_5'] = employee_df['salary'].apply(lambda x: x * 5)\n",
    "\n",
    "print(employee_df)"
   ]
  },
  {
   "cell_type": "code",
   "execution_count": null,
   "id": "a78243c7",
   "metadata": {},
   "outputs": [],
   "source": [
    "# Return a new column female_employees stating which employees are female in employee_df\n",
    "\n",
    "employee_df['female_employees'] = employee_df['gender'].apply(lambda x: x == 'F')\n",
    "\n",
    "print(employee_df[['fname', 'female_employees', 'gender']])"
   ]
  },
  {
   "cell_type": "code",
   "execution_count": null,
   "id": "5219dcb0",
   "metadata": {},
   "outputs": [],
   "source": [
    "# Creating custom functions \n",
    "# Create a function to return all employees in a column increase_salary with salaries greater than 60k \n",
    "# or else change salary to 0 in employee_df\n",
    "\n",
    "def change_salary(x):\n",
    "    if(x > 25000):\n",
    "        return x\n",
    "    return 0\n",
    "\n",
    "employee_df['increase_salary'] = employee_df['salary'].apply(change_salary)\n",
    "\n",
    "print(employee_df)"
   ]
  },
  {
   "cell_type": "markdown",
   "id": "fc52b12b",
   "metadata": {},
   "source": [
    "<span style=\"color:gray; font-weight:bold;\">Changing the Dataframe</span> <br>\n",
    "<span style=\"font-style:italic\">Manipulate the dataframe definition</span>"
   ]
  },
  {
   "cell_type": "code",
   "execution_count": null,
   "id": "68851ca7",
   "metadata": {},
   "outputs": [],
   "source": [
    "# Remove the column female_employees from employee_df\n",
    "\n",
    "employee_df = employee_df.drop('female_employees', axis=1)\n",
    "\n",
    "print(employee_df)"
   ]
  },
  {
   "cell_type": "code",
   "execution_count": null,
   "id": "9e560430",
   "metadata": {},
   "outputs": [],
   "source": [
    "# In-place remove the column increase_salary from employee_df using .pop() and return a series \n",
    "# We can now perform operations on this column like it were a DS\n",
    "\n",
    "increase_salary_col = employee_df.pop('increase_salary')\n",
    "\n",
    "print(employee_df)\n",
    "\n",
    "print(increase_salary_col)"
   ]
  },
  {
   "cell_type": "code",
   "execution_count": null,
   "id": "af311f2d",
   "metadata": {},
   "outputs": [],
   "source": [
    "# Get mean of all values in increase_salary_col \n",
    "\n",
    "mean_value = increase_salary_col.mean()\n",
    "\n",
    "print(\"Mean of the popped column:\", mean_value)"
   ]
  },
  {
   "cell_type": "code",
   "execution_count": null,
   "id": "ebb4c8eb",
   "metadata": {},
   "outputs": [],
   "source": [
    "# Get the 5th value in increase_salary_col. Use a try and except block as well.\n",
    "\n",
    "try:\n",
    "    if len(increase_salary_col) >= 8:\n",
    "        last_val = increase_salary_col[10]\n",
    "        print('The last value is: ',last_val)\n",
    "    else:\n",
    "        print('Column does not have those many values')\n",
    "except Exception as e:\n",
    "     print(f\"An unexpected error occurred: {e}\")"
   ]
  },
  {
   "cell_type": "code",
   "execution_count": null,
   "id": "571f70a1",
   "metadata": {},
   "outputs": [],
   "source": [
    "# Rename the column address to shipping_address in employee_df\n",
    "\n",
    "employee_df.rename(columns={'address': 'shipping_address'}, inplace=True)\n",
    "\n",
    "print(employee_df)"
   ]
  },
  {
   "cell_type": "markdown",
   "id": "6342ee9a",
   "metadata": {},
   "source": [
    "<span style=\"color:gray; font-weight:bold;\">Using iloc</span> <br>\n",
    "<span style=\"font-style:italic\">Used for integer-location based indexing, meaning it allows you to access parts of the DataFrame or Series by using integer indices\n",
    "</span>"
   ]
  },
  {
   "cell_type": "code",
   "execution_count": null,
   "id": "c0a8ac58",
   "metadata": {},
   "outputs": [],
   "source": [
    "# Accessing the third record in the employee_df and store it in third_rec\n",
    "# Returns a 1D series DS\n",
    "\n",
    "third_rec = employee_df.iloc[2]\n",
    "\n",
    "print(third_rec)"
   ]
  },
  {
   "cell_type": "code",
   "execution_count": null,
   "id": "b4844379",
   "metadata": {},
   "outputs": [],
   "source": [
    "# Return the first five employees in employee_df and store in first_five\n",
    "# Returns 2D Series DS\n",
    "\n",
    "first_five = employee_df.iloc[0:5]\n",
    "\n",
    "print(first_five)"
   ]
  },
  {
   "cell_type": "code",
   "execution_count": null,
   "id": "9d73156d",
   "metadata": {},
   "outputs": [],
   "source": [
    "# Print the value at the 8th location in third_rec\n",
    "\n",
    "print(third_rec.iloc[7])"
   ]
  },
  {
   "cell_type": "code",
   "execution_count": null,
   "id": "1ea531b8",
   "metadata": {},
   "outputs": [],
   "source": [
    "# Add Values in the salary column for the first and last element in first_five\n",
    "\n",
    "addition = first_five.iloc[0,7] + first_five.iloc[4,7]\n",
    "\n",
    "print(addition)"
   ]
  },
  {
   "cell_type": "code",
   "execution_count": null,
   "id": "80195677",
   "metadata": {},
   "outputs": [],
   "source": [
    "# What if I don't know the index of the salary column? Use columns.get_loc(columnName)\n",
    "\n",
    "sal_loc = first_five.columns.get_loc('salary')\n",
    "\n",
    "addition = first_five.iloc[0,sal_loc] + first_five.iloc[4,sal_loc]\n",
    "\n",
    "print(addition)"
   ]
  },
  {
   "cell_type": "markdown",
   "id": "583bc052",
   "metadata": {},
   "source": [
    "<span style=\"color:gray; font-weight:bold;\">Data Visualization</span> <br>\n",
    "<span style=\"font-style:italic\">Use matplotlib to visualize your data</span>"
   ]
  },
  {
   "cell_type": "code",
   "execution_count": 93,
   "id": "e3bb7e8b",
   "metadata": {},
   "outputs": [
    {
     "data": {
      "image/png": "[encoded data removed]",
      "text/plain": [
       "<Figure size 640x480 with 1 Axes>"
      ]
     },
     "metadata": {},
     "output_type": "display_data"
    }
   ],
   "source": [
    "# Plot a histogram of the Salary column in employee_df\n",
    "\n",
    "employee_df['salary'].hist(bins=10)\n",
    "plt.title('Salary Distribution')\n",
    "plt.xlabel('Salary')\n",
    "plt.ylabel('No of Employees')\n",
    "plt.show()"
   ]
  },
  {
   "cell_type": "code",
   "execution_count": 100,
   "id": "6b1b02d9",
   "metadata": {},
   "outputs": [
    {
     "data": {
      "image/png": "[encoded data removed]",
      "text/plain": [
       "<Figure size 640x480 with 1 Axes>"
      ]
     },
     "metadata": {},
     "output_type": "display_data"
    }
   ],
   "source": [
    "# Plot a bar graph showing number of employees in each department\n",
    "\n",
    "# Count the number of employees in each department\n",
    "\n",
    "department_counts = employee_df['dno'].value_counts()\n",
    "\n",
    "# Plot a bar chart of the department counts\n",
    "\n",
    "department_counts.plot(kind='bar')\n",
    "plt.title('Employee Count by Department')\n",
    "plt.xlabel('Department')\n",
    "plt.ylabel('Number of Employees')\n",
    "plt.xticks(rotation=360)\n",
    "plt.show()"
   ]
  },
  {
   "cell_type": "markdown",
   "id": "0517080e",
   "metadata": {},
   "source": [
    "<span style=\"color:gray; font-weight:bold;\">Exporting your DataFrame</span>"
   ]
  },
  {
   "cell_type": "code",
   "execution_count": null,
   "id": "84e1f0eb",
   "metadata": {},
   "outputs": [],
   "source": [
    "# Print the current working directory\n",
    "\n",
    "print(os.getcwd())"
   ]
  },
  {
   "cell_type": "code",
   "execution_count": null,
   "id": "c1158c37",
   "metadata": {},
   "outputs": [],
   "source": [
    "# Output it to any location on your local with the name disc-4-output.csv (Can have any name).\n",
    "\n",
    "first_five.to_csv(f\"{os.getcwd()}\\disc-4-output.csv\", index=False)\n",
    "\n",
    "print('File has been exported')"
   ]
  }
 ],
 "metadata": {
  "kernelspec": {
   "display_name": "Python 3 (ipykernel)",
   "language": "python",
   "name": "python3"
  },
  "language_info": {
   "codemirror_mode": {
    "name": "ipython",
    "version": 3
   },
   "file_extension": ".py",
   "mimetype": "text/x-python",
   "name": "python",
   "nbconvert_exporter": "python",
   "pygments_lexer": "ipython3",
   "version": "3.11.7"
  }
 },
 "nbformat": 4,
 "nbformat_minor": 5
}
